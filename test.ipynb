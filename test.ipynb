{
 "cells": [
  {
   "cell_type": "code",
   "execution_count": 1,
   "metadata": {},
   "outputs": [],
   "source": [
    "import os\n",
    "os.environ.setdefault(\"DJANGO_SETTINGS_MODULE\", \"plantae.settings\")\n",
    "import django\n",
    "django.setup()"
   ]
  },
  {
   "cell_type": "code",
   "execution_count": 2,
   "metadata": {},
   "outputs": [],
   "source": [
    "from agent.langgraph.tools import get_cart_items, add_to_cart, search_product\n",
    "from langchain_openai import ChatOpenAI\n",
    "from langchain_tavily import TavilySearch\n",
    "from langchain_core.tools import tool\n",
    "from dotenv import load_dotenv\n",
    "\n",
    "load_dotenv()\n",
    "\n",
    "# LLMs\n",
    "llm = ChatOpenAI(model=\"gpt-4.1-nano-2025-04-14\", temperature=0.7)\n",
    "web_search = TavilySearch(max_results=2)\n"
   ]
  },
  {
   "cell_type": "code",
   "execution_count": 4,
   "metadata": {},
   "outputs": [],
   "source": [
    "from carts.models import CartItem\n",
    "@tool\n",
    "def get_cart_items(user_id: int) -> str:\n",
    "    \"\"\"\n",
    "    Get the products in the cart by using user id.\n",
    "    \"\"\"\n",
    "    items = CartItem.objects.filter(user_id=user_id)\n",
    "    if not items.exists():\n",
    "        return \"Your cart is empty.\"\n",
    "    return \"\\n\".join([f\"{item.product.product_name} × {item.quantity}\" for item in items])"
   ]
  },
  {
   "cell_type": "code",
   "execution_count": 10,
   "metadata": {},
   "outputs": [
    {
     "ename": "SynchronousOnlyOperation",
     "evalue": "You cannot call this from an async context - use a thread or sync_to_async.",
     "output_type": "error",
     "traceback": [
      "\u001b[31m---------------------------------------------------------------------------\u001b[39m",
      "\u001b[31mSynchronousOnlyOperation\u001b[39m                  Traceback (most recent call last)",
      "\u001b[36mCell\u001b[39m\u001b[36m \u001b[39m\u001b[32mIn[10]\u001b[39m\u001b[32m, line 1\u001b[39m\n\u001b[32m----> \u001b[39m\u001b[32m1\u001b[39m \u001b[43mget_cart_items\u001b[49m\u001b[43m.\u001b[49m\u001b[43minvoke\u001b[49m\u001b[43m(\u001b[49m\u001b[43m{\u001b[49m\u001b[33;43m\"\u001b[39;49m\u001b[33;43muser_id\u001b[39;49m\u001b[33;43m\"\u001b[39;49m\u001b[43m:\u001b[49m\u001b[43m \u001b[49m\u001b[32;43m1\u001b[39;49m\u001b[43m}\u001b[49m\u001b[43m)\u001b[49m\n",
      "\u001b[36mFile \u001b[39m\u001b[32m~/Documents/Python/Django/dj_env/lib/python3.11/site-packages/langchain_core/tools/base.py:598\u001b[39m, in \u001b[36mBaseTool.invoke\u001b[39m\u001b[34m(self, input, config, **kwargs)\u001b[39m\n\u001b[32m    590\u001b[39m \u001b[38;5;129m@override\u001b[39m\n\u001b[32m    591\u001b[39m \u001b[38;5;28;01mdef\u001b[39;00m\u001b[38;5;250m \u001b[39m\u001b[34minvoke\u001b[39m(\n\u001b[32m    592\u001b[39m     \u001b[38;5;28mself\u001b[39m,\n\u001b[32m   (...)\u001b[39m\u001b[32m    595\u001b[39m     **kwargs: Any,\n\u001b[32m    596\u001b[39m ) -> Any:\n\u001b[32m    597\u001b[39m     tool_input, kwargs = _prep_run_args(\u001b[38;5;28minput\u001b[39m, config, **kwargs)\n\u001b[32m--> \u001b[39m\u001b[32m598\u001b[39m     \u001b[38;5;28;01mreturn\u001b[39;00m \u001b[38;5;28;43mself\u001b[39;49m\u001b[43m.\u001b[49m\u001b[43mrun\u001b[49m\u001b[43m(\u001b[49m\u001b[43mtool_input\u001b[49m\u001b[43m,\u001b[49m\u001b[43m \u001b[49m\u001b[43m*\u001b[49m\u001b[43m*\u001b[49m\u001b[43mkwargs\u001b[49m\u001b[43m)\u001b[49m\n",
      "\u001b[36mFile \u001b[39m\u001b[32m~/Documents/Python/Django/dj_env/lib/python3.11/site-packages/langchain_core/tools/base.py:882\u001b[39m, in \u001b[36mBaseTool.run\u001b[39m\u001b[34m(self, tool_input, verbose, start_color, color, callbacks, tags, metadata, run_name, run_id, config, tool_call_id, **kwargs)\u001b[39m\n\u001b[32m    880\u001b[39m \u001b[38;5;28;01mif\u001b[39;00m error_to_raise:\n\u001b[32m    881\u001b[39m     run_manager.on_tool_error(error_to_raise)\n\u001b[32m--> \u001b[39m\u001b[32m882\u001b[39m     \u001b[38;5;28;01mraise\u001b[39;00m error_to_raise\n\u001b[32m    883\u001b[39m output = _format_output(content, artifact, tool_call_id, \u001b[38;5;28mself\u001b[39m.name, status)\n\u001b[32m    884\u001b[39m run_manager.on_tool_end(output, color=color, name=\u001b[38;5;28mself\u001b[39m.name, **kwargs)\n",
      "\u001b[36mFile \u001b[39m\u001b[32m~/Documents/Python/Django/dj_env/lib/python3.11/site-packages/langchain_core/tools/base.py:851\u001b[39m, in \u001b[36mBaseTool.run\u001b[39m\u001b[34m(self, tool_input, verbose, start_color, color, callbacks, tags, metadata, run_name, run_id, config, tool_call_id, **kwargs)\u001b[39m\n\u001b[32m    849\u001b[39m     \u001b[38;5;28;01mif\u001b[39;00m config_param := _get_runnable_config_param(\u001b[38;5;28mself\u001b[39m._run):\n\u001b[32m    850\u001b[39m         tool_kwargs = tool_kwargs | {config_param: config}\n\u001b[32m--> \u001b[39m\u001b[32m851\u001b[39m     response = \u001b[43mcontext\u001b[49m\u001b[43m.\u001b[49m\u001b[43mrun\u001b[49m\u001b[43m(\u001b[49m\u001b[38;5;28;43mself\u001b[39;49m\u001b[43m.\u001b[49m\u001b[43m_run\u001b[49m\u001b[43m,\u001b[49m\u001b[43m \u001b[49m\u001b[43m*\u001b[49m\u001b[43mtool_args\u001b[49m\u001b[43m,\u001b[49m\u001b[43m \u001b[49m\u001b[43m*\u001b[49m\u001b[43m*\u001b[49m\u001b[43mtool_kwargs\u001b[49m\u001b[43m)\u001b[49m\n\u001b[32m    852\u001b[39m \u001b[38;5;28;01mif\u001b[39;00m \u001b[38;5;28mself\u001b[39m.response_format == \u001b[33m\"\u001b[39m\u001b[33mcontent_and_artifact\u001b[39m\u001b[33m\"\u001b[39m:\n\u001b[32m    853\u001b[39m     \u001b[38;5;28;01mif\u001b[39;00m \u001b[38;5;129;01mnot\u001b[39;00m \u001b[38;5;28misinstance\u001b[39m(response, \u001b[38;5;28mtuple\u001b[39m) \u001b[38;5;129;01mor\u001b[39;00m \u001b[38;5;28mlen\u001b[39m(response) != \u001b[32m2\u001b[39m:\n",
      "\u001b[36mFile \u001b[39m\u001b[32m~/Documents/Python/Django/dj_env/lib/python3.11/site-packages/langchain_core/tools/structured.py:93\u001b[39m, in \u001b[36mStructuredTool._run\u001b[39m\u001b[34m(self, config, run_manager, *args, **kwargs)\u001b[39m\n\u001b[32m     91\u001b[39m     \u001b[38;5;28;01mif\u001b[39;00m config_param := _get_runnable_config_param(\u001b[38;5;28mself\u001b[39m.func):\n\u001b[32m     92\u001b[39m         kwargs[config_param] = config\n\u001b[32m---> \u001b[39m\u001b[32m93\u001b[39m     \u001b[38;5;28;01mreturn\u001b[39;00m \u001b[38;5;28;43mself\u001b[39;49m\u001b[43m.\u001b[49m\u001b[43mfunc\u001b[49m\u001b[43m(\u001b[49m\u001b[43m*\u001b[49m\u001b[43margs\u001b[49m\u001b[43m,\u001b[49m\u001b[43m \u001b[49m\u001b[43m*\u001b[49m\u001b[43m*\u001b[49m\u001b[43mkwargs\u001b[49m\u001b[43m)\u001b[49m\n\u001b[32m     94\u001b[39m msg = \u001b[33m\"\u001b[39m\u001b[33mStructuredTool does not support sync invocation.\u001b[39m\u001b[33m\"\u001b[39m\n\u001b[32m     95\u001b[39m \u001b[38;5;28;01mraise\u001b[39;00m \u001b[38;5;167;01mNotImplementedError\u001b[39;00m(msg)\n",
      "\u001b[36mCell\u001b[39m\u001b[36m \u001b[39m\u001b[32mIn[4]\u001b[39m\u001b[32m, line 8\u001b[39m, in \u001b[36mget_cart_items\u001b[39m\u001b[34m(user_id)\u001b[39m\n\u001b[32m      4\u001b[39m \u001b[38;5;250m\u001b[39m\u001b[33;03m\"\"\"\u001b[39;00m\n\u001b[32m      5\u001b[39m \u001b[33;03mGet the products in the cart by using user id.\u001b[39;00m\n\u001b[32m      6\u001b[39m \u001b[33;03m\"\"\"\u001b[39;00m\n\u001b[32m      7\u001b[39m items = CartItem.objects.filter(user_id=user_id)\n\u001b[32m----> \u001b[39m\u001b[32m8\u001b[39m \u001b[38;5;28;01mif\u001b[39;00m \u001b[38;5;129;01mnot\u001b[39;00m \u001b[43mitems\u001b[49m\u001b[43m.\u001b[49m\u001b[43mexists\u001b[49m\u001b[43m(\u001b[49m\u001b[43m)\u001b[49m:\n\u001b[32m      9\u001b[39m     \u001b[38;5;28;01mreturn\u001b[39;00m \u001b[33m\"\u001b[39m\u001b[33mYour cart is empty.\u001b[39m\u001b[33m\"\u001b[39m\n\u001b[32m     10\u001b[39m \u001b[38;5;28;01mreturn\u001b[39;00m \u001b[33m\"\u001b[39m\u001b[38;5;130;01m\\n\u001b[39;00m\u001b[33m\"\u001b[39m.join([\u001b[33mf\u001b[39m\u001b[33m\"\u001b[39m\u001b[38;5;132;01m{\u001b[39;00mitem.product.product_name\u001b[38;5;132;01m}\u001b[39;00m\u001b[33m × \u001b[39m\u001b[38;5;132;01m{\u001b[39;00mitem.quantity\u001b[38;5;132;01m}\u001b[39;00m\u001b[33m\"\u001b[39m \u001b[38;5;28;01mfor\u001b[39;00m item \u001b[38;5;129;01min\u001b[39;00m items])\n",
      "\u001b[36mFile \u001b[39m\u001b[32m~/Documents/Python/Django/dj_env/lib/python3.11/site-packages/django/db/models/query.py:1241\u001b[39m, in \u001b[36mQuerySet.exists\u001b[39m\u001b[34m(self)\u001b[39m\n\u001b[32m   1237\u001b[39m \u001b[38;5;250m\u001b[39m\u001b[33;03m\"\"\"\u001b[39;00m\n\u001b[32m   1238\u001b[39m \u001b[33;03mReturn True if the QuerySet would have any results, False otherwise.\u001b[39;00m\n\u001b[32m   1239\u001b[39m \u001b[33;03m\"\"\"\u001b[39;00m\n\u001b[32m   1240\u001b[39m \u001b[38;5;28;01mif\u001b[39;00m \u001b[38;5;28mself\u001b[39m._result_cache \u001b[38;5;129;01mis\u001b[39;00m \u001b[38;5;28;01mNone\u001b[39;00m:\n\u001b[32m-> \u001b[39m\u001b[32m1241\u001b[39m     \u001b[38;5;28;01mreturn\u001b[39;00m \u001b[38;5;28;43mself\u001b[39;49m\u001b[43m.\u001b[49m\u001b[43mquery\u001b[49m\u001b[43m.\u001b[49m\u001b[43mhas_results\u001b[49m\u001b[43m(\u001b[49m\u001b[43musing\u001b[49m\u001b[43m=\u001b[49m\u001b[38;5;28;43mself\u001b[39;49m\u001b[43m.\u001b[49m\u001b[43mdb\u001b[49m\u001b[43m)\u001b[49m\n\u001b[32m   1242\u001b[39m \u001b[38;5;28;01mreturn\u001b[39;00m \u001b[38;5;28mbool\u001b[39m(\u001b[38;5;28mself\u001b[39m._result_cache)\n",
      "\u001b[36mFile \u001b[39m\u001b[32m~/Documents/Python/Django/dj_env/lib/python3.11/site-packages/django/db/models/sql/query.py:598\u001b[39m, in \u001b[36mQuery.has_results\u001b[39m\u001b[34m(self, using)\u001b[39m\n\u001b[32m    596\u001b[39m q = \u001b[38;5;28mself\u001b[39m.exists(using)\n\u001b[32m    597\u001b[39m compiler = q.get_compiler(using=using)\n\u001b[32m--> \u001b[39m\u001b[32m598\u001b[39m \u001b[38;5;28;01mreturn\u001b[39;00m \u001b[43mcompiler\u001b[49m\u001b[43m.\u001b[49m\u001b[43mhas_results\u001b[49m\u001b[43m(\u001b[49m\u001b[43m)\u001b[49m\n",
      "\u001b[36mFile \u001b[39m\u001b[32m~/Documents/Python/Django/dj_env/lib/python3.11/site-packages/django/db/models/sql/compiler.py:1530\u001b[39m, in \u001b[36mSQLCompiler.has_results\u001b[39m\u001b[34m(self)\u001b[39m\n\u001b[32m   1525\u001b[39m \u001b[38;5;28;01mdef\u001b[39;00m\u001b[38;5;250m \u001b[39m\u001b[34mhas_results\u001b[39m(\u001b[38;5;28mself\u001b[39m):\n\u001b[32m   1526\u001b[39m \u001b[38;5;250m    \u001b[39m\u001b[33;03m\"\"\"\u001b[39;00m\n\u001b[32m   1527\u001b[39m \u001b[33;03m    Backends (e.g. NoSQL) can override this in order to use optimized\u001b[39;00m\n\u001b[32m   1528\u001b[39m \u001b[33;03m    versions of \"query has any results.\"\u001b[39;00m\n\u001b[32m   1529\u001b[39m \u001b[33;03m    \"\"\"\u001b[39;00m\n\u001b[32m-> \u001b[39m\u001b[32m1530\u001b[39m     \u001b[38;5;28;01mreturn\u001b[39;00m \u001b[38;5;28mbool\u001b[39m(\u001b[38;5;28;43mself\u001b[39;49m\u001b[43m.\u001b[49m\u001b[43mexecute_sql\u001b[49m\u001b[43m(\u001b[49m\u001b[43mSINGLE\u001b[49m\u001b[43m)\u001b[49m)\n",
      "\u001b[36mFile \u001b[39m\u001b[32m~/Documents/Python/Django/dj_env/lib/python3.11/site-packages/django/db/models/sql/compiler.py:1560\u001b[39m, in \u001b[36mSQLCompiler.execute_sql\u001b[39m\u001b[34m(self, result_type, chunked_fetch, chunk_size)\u001b[39m\n\u001b[32m   1558\u001b[39m     cursor = \u001b[38;5;28mself\u001b[39m.connection.chunked_cursor()\n\u001b[32m   1559\u001b[39m \u001b[38;5;28;01melse\u001b[39;00m:\n\u001b[32m-> \u001b[39m\u001b[32m1560\u001b[39m     cursor = \u001b[38;5;28;43mself\u001b[39;49m\u001b[43m.\u001b[49m\u001b[43mconnection\u001b[49m\u001b[43m.\u001b[49m\u001b[43mcursor\u001b[49m\u001b[43m(\u001b[49m\u001b[43m)\u001b[49m\n\u001b[32m   1561\u001b[39m \u001b[38;5;28;01mtry\u001b[39;00m:\n\u001b[32m   1562\u001b[39m     cursor.execute(sql, params)\n",
      "\u001b[36mFile \u001b[39m\u001b[32m~/Documents/Python/Django/dj_env/lib/python3.11/site-packages/django/utils/asyncio.py:24\u001b[39m, in \u001b[36masync_unsafe.<locals>.decorator.<locals>.inner\u001b[39m\u001b[34m(*args, **kwargs)\u001b[39m\n\u001b[32m     22\u001b[39m \u001b[38;5;28;01melse\u001b[39;00m:\n\u001b[32m     23\u001b[39m     \u001b[38;5;28;01mif\u001b[39;00m \u001b[38;5;129;01mnot\u001b[39;00m os.environ.get(\u001b[33m\"\u001b[39m\u001b[33mDJANGO_ALLOW_ASYNC_UNSAFE\u001b[39m\u001b[33m\"\u001b[39m):\n\u001b[32m---> \u001b[39m\u001b[32m24\u001b[39m         \u001b[38;5;28;01mraise\u001b[39;00m SynchronousOnlyOperation(message)\n\u001b[32m     25\u001b[39m \u001b[38;5;66;03m# Pass onward.\u001b[39;00m\n\u001b[32m     26\u001b[39m \u001b[38;5;28;01mreturn\u001b[39;00m func(*args, **kwargs)\n",
      "\u001b[31mSynchronousOnlyOperation\u001b[39m: You cannot call this from an async context - use a thread or sync_to_async."
     ]
    }
   ],
   "source": [
    "get_cart_items.invoke({\"user_id\": 1})"
   ]
  },
  {
   "cell_type": "code",
   "execution_count": 20,
   "metadata": {},
   "outputs": [],
   "source": [
    "from carts.models import CartItem, Product, Variation\n",
    "from asgiref.sync import sync_to_async\n",
    "os.environ[\"DJANGO_ALLOW_ASYNC_UNSAFE\"] = \"true\"\n",
    "\n",
    "@tool\n",
    "def get_cart_items(user_id: int) -> str:\n",
    "    \"\"\"\n",
    "    Get the products in the cart by using user id.\n",
    "    \"\"\"\n",
    "    items = CartItem.objects.select_related('product').filter(user_id=user_id)\n",
    "    if not items.exists():\n",
    "        return \"Your cart is empty.\"\n",
    "    return \"\\n\".join([f\"{item.product.product_name} × {item.quantity}\" for item in items])\n"
   ]
  },
  {
   "cell_type": "code",
   "execution_count": 21,
   "metadata": {},
   "outputs": [
    {
     "name": "stdout",
     "output_type": "stream",
     "text": [
      "Planter × 1\n",
      "Adenium × 1\n"
     ]
    }
   ],
   "source": [
    "result = get_cart_items.invoke({\"user_id\": 1})\n",
    "print(result)"
   ]
  },
  {
   "cell_type": "code",
   "execution_count": 37,
   "metadata": {},
   "outputs": [
    {
     "name": "stdout",
     "output_type": "stream",
     "text": [
      "No products found matching 'Stone Grey 22 inch planter'\n"
     ]
    }
   ],
   "source": [
    "@tool\n",
    "def search_product(product_name: str) -> str:\n",
    "    \"\"\"\n",
    "    Search for a product by name. Returns product information including ID and available variations.\n",
    "    \"\"\"\n",
    "    try:\n",
    "        products = Product.objects.filter(product_name__icontains=product_name)\n",
    "        if not products.exists():\n",
    "            return f\"No products found matching '{product_name}'\"\n",
    "        \n",
    "        result = []\n",
    "        for product in products:\n",
    "            variations = Variation.objects.filter(product=product)\n",
    "            variation_info = []\n",
    "            for var in variations:\n",
    "                variation_info.append(f\"{var.variation_category}: {var.variation_value}\")\n",
    "            \n",
    "            product_info = f\"Product ID: {product.id}, Name: {product.product_name}\"\n",
    "            if variation_info:\n",
    "                product_info += f\", Available variations: {', '.join(variation_info)}\"\n",
    "            result.append(product_info)\n",
    "        \n",
    "        return \"\\n\".join(result)\n",
    "    except Exception as e:\n",
    "        return f\"Error searching for product: {str(e)}\"\n",
    "    \n",
    "result = search_product.invoke({\"product_name\": 'Stone Grey 22 inch planter'})\n",
    "print(result)"
   ]
  },
  {
   "cell_type": "code",
   "execution_count": 32,
   "metadata": {},
   "outputs": [
    {
     "name": "stdout",
     "output_type": "stream",
     "text": [
      "No product found with name 'ayush'. Please check the product name and try again.\n"
     ]
    }
   ],
   "source": [
    "from django.contrib.auth import get_user_model\n",
    "\n",
    "@tool\n",
    "def add_to_cart(user_id: int, product_name: str, variation_dict: dict = None) -> str:\n",
    "    \"\"\"\n",
    "    Add the product to the cart by product name. If there exists a variation in the product, first get the variations THEN ONLY add the product with variation in the cart. \n",
    "    If the product or product with certain variation already exists in the cart, increase the quantity of that product by 1.\n",
    "    \"\"\"\n",
    "    if variation_dict is None:\n",
    "        variation_dict = {}\n",
    "    try:\n",
    "        User = get_user_model()\n",
    "        current_user = User.objects.get(id=user_id)\n",
    "        \n",
    "        # Search for product by name\n",
    "        products = Product.objects.filter(product_name__icontains=product_name)\n",
    "        if not products.exists():\n",
    "            return f\"No product found with name '{product_name}'. Please check the product name and try again.\"\n",
    "        \n",
    "        if products.count() > 1:\n",
    "            product_list = \"\\n\".join([f\"- {p.product_name} (ID: {p.id})\" for p in products])\n",
    "            return f\"Multiple products found with similar names. Please be more specific:\\n{product_list}\"\n",
    "        \n",
    "        product = products.first()\n",
    "        product_variation = []\n",
    "\n",
    "        # Extract variations\n",
    "        for key, value in variation_dict.items():\n",
    "            try:\n",
    "                variation = Variation.objects.get(\n",
    "                    product=product,\n",
    "                    variation_category__iexact=key,\n",
    "                    variation_value__iexact=value\n",
    "                )\n",
    "                product_variation.append(variation)\n",
    "            except Variation.DoesNotExist:\n",
    "                continue\n",
    "\n",
    "        cart_items = CartItem.objects.filter(product=product, user=current_user)\n",
    "\n",
    "        for item in cart_items:\n",
    "            existing_variation = list(item.variation.all())\n",
    "            if set(existing_variation) == set(product_variation):\n",
    "                item.quantity += 1\n",
    "                item.save()\n",
    "                return f\"Increased quantity of {product.product_name} with selected variations.\"\n",
    "\n",
    "        # If no matching variation, create new item\n",
    "        new_item = CartItem.objects.create(product=product, quantity=1, user=current_user)\n",
    "        if product_variation:\n",
    "            new_item.variation.set(product_variation)\n",
    "        new_item.save()\n",
    "        return f\"Added {product.product_name} to cart.\"\n",
    "\n",
    "    except User.DoesNotExist:\n",
    "        return \"User not found.\"\n",
    "    except Exception as e:\n",
    "        return f\"Error: {str(e)}\"\n",
    "    \n",
    "\n",
    "result = add_to_cart.invoke({\"user_id\": 1,\n",
    "                             \"product_name\": \"ayush\",\n",
    "                             \"variation_dict\": {\"color\": \"Stone Grey\", \"size\": \"24 inch\"}\n",
    "                             })\n",
    "print(result)"
   ]
  },
  {
   "cell_type": "code",
   "execution_count": null,
   "metadata": {},
   "outputs": [
    {
     "name": "stdout",
     "output_type": "stream",
     "text": [
      "Agent Response:\n",
      "Petunias are popular flowering plants that need proper care to thrive. They require regular watering—about 1 to 2 inches per week, more in hot weather—and prefer well-drained soil. They thrive in full sunlight, ideally 5-6 hours of direct sun daily. For detailed tips on pruning, fertilizing, and disease management, you can check [this guide](https://garvillo.com/how-to-care-for-petunias/).\n",
      "\n",
      "==================================================\n",
      "Streaming response to see tool calls:\n",
      "{'agent': {'messages': [AIMessage(content='', additional_kwargs={'tool_calls': [{'id': 'call_HjA9V5uURnbBb8mZ2dJ38MQt', 'function': {'arguments': '{\"product_name\":\"Planter (Stone Grey 22 inch)\"}', 'name': 'search_and_check_variations'}, 'type': 'function'}], 'refusal': None}, response_metadata={'token_usage': {'completion_tokens': 26, 'prompt_tokens': 358, 'total_tokens': 384, 'completion_tokens_details': {'accepted_prediction_tokens': 0, 'audio_tokens': 0, 'reasoning_tokens': 0, 'rejected_prediction_tokens': 0}, 'prompt_tokens_details': {'audio_tokens': 0, 'cached_tokens': 0}}, 'model_name': 'gpt-4.1-nano-2025-04-14', 'system_fingerprint': 'fp_38343a2f8f', 'id': 'chatcmpl-Bq2QtYM5Rm9MGr7vPan71NkrAbNMl', 'service_tier': 'default', 'finish_reason': 'tool_calls', 'logprobs': None}, id='run--7e9bddbf-908e-4500-b67a-729d54eba346-0', tool_calls=[{'name': 'search_and_check_variations', 'args': {'product_name': 'Planter (Stone Grey 22 inch)'}, 'id': 'call_HjA9V5uURnbBb8mZ2dJ38MQt', 'type': 'tool_call'}], usage_metadata={'input_tokens': 358, 'output_tokens': 26, 'total_tokens': 384, 'input_token_details': {'audio': 0, 'cache_read': 0}, 'output_token_details': {'audio': 0, 'reasoning': 0}})]}}\n",
      "{'tools': {'messages': [ToolMessage(content=\"No products found matching 'Planter (Stone Grey 22 inch)'\", name='search_and_check_variations', id='07faa117-2c14-4b27-a73e-52891e31eac8', tool_call_id='call_HjA9V5uURnbBb8mZ2dJ38MQt')]}}\n",
      "{'agent': {'messages': [AIMessage(content='It looks like we couldn\\'t find a product matching \"Planter (Stone Grey 22 inch).\" Could you please check the name or provide more details?', additional_kwargs={'refusal': None}, response_metadata={'token_usage': {'completion_tokens': 31, 'prompt_tokens': 409, 'total_tokens': 440, 'completion_tokens_details': {'accepted_prediction_tokens': 0, 'audio_tokens': 0, 'reasoning_tokens': 0, 'rejected_prediction_tokens': 0}, 'prompt_tokens_details': {'audio_tokens': 0, 'cached_tokens': 0}}, 'model_name': 'gpt-4.1-nano-2025-04-14', 'system_fingerprint': 'fp_38343a2f8f', 'id': 'chatcmpl-Bq2QudMjbuiorc3IbdE5jcAnucWXp', 'service_tier': 'default', 'finish_reason': 'stop', 'logprobs': None}, id='run--5038d052-7a84-438d-9b33-51f31d4aa181-0', usage_metadata={'input_tokens': 409, 'output_tokens': 31, 'total_tokens': 440, 'input_token_details': {'audio': 0, 'cache_read': 0}, 'output_token_details': {'audio': 0, 'reasoning': 0}})]}}\n"
     ]
    }
   ],
   "source": [
    "from langchain_core.messages import HumanMessage\n",
    "from langgraph.prebuilt import create_react_agent\n",
    "\n",
    "cart_agent = create_react_agent(\n",
    "    model=ChatOpenAI(model=\"gpt-4.1-nano-2025-04-14\", temperature=0.7),\n",
    "    tools=[get_cart_items, add_to_cart, search_product],\n",
    "    prompt=\"\"\"You are a helpful plant store assistant. You can help users with:\n",
    "1. Checking their cart contents\n",
    "2. Adding products to their cart (The query of product may contain variations. From the query, you need to extract the product name and the variations)\n",
    "3. Searching for products\n",
    "4. Providing information about plants\n",
    "\n",
    "Always be friendly and helpful. When users ask about their cart, use the get_cart_items tool.\n",
    "When they want to add products, first  use the add_to_cart tool.\n",
    "When they want to search for products, use the search_product tool.\n",
    "\n",
    "Remember to include the user_id when using cart-related tools.\"\"\"\n",
    ")\n",
    "\n",
    "# Test the agent with cart query\n",
    "inputs = {\n",
    "    \"messages\": [\n",
    "        HumanMessage(content=\"Add a Planter (Stone Grey 22 inch) to my cart I have user_id = 1\")\n",
    "    ]\n",
    "}\n",
    "\n",
    "# Run the agent\n",
    "#result = react_agent.invoke(inputs)\n",
    "\n",
    "# Print the result\n",
    "print(\"Agent Response:\")\n",
    "print(result[\"messages\"][-1].content)\n",
    "\n",
    "# You can also stream the response to see the tool calls in action\n",
    "print(\"\\n\" + \"=\"*50)\n",
    "print(\"Streaming response to see tool calls:\")\n",
    "for chunk in cart_agent.stream(inputs, stream_mode=\"updates\"):\n",
    "    print(chunk)"
   ]
  },
  {
   "cell_type": "code",
   "execution_count": 43,
   "metadata": {},
   "outputs": [
    {
     "name": "stdout",
     "output_type": "stream",
     "text": [
      "Research Agent Response:\n",
      "Petunias are popular flowering plants that need proper care to thrive. They require regular watering—about 1 to 2 inches per week, more in hot weather—and prefer well-drained soil. They thrive in full sunlight, ideally 5-6 hours of direct sun daily. For detailed tips on pruning, fertilizing, and disease management, you can check [this guide](https://garvillo.com/how-to-care-for-petunias/).\n",
      "\n",
      "==================================================\n",
      "Streaming response to see tool calls:\n",
      "{'agent': {'messages': [AIMessage(content='', additional_kwargs={'tool_calls': [{'id': 'call_DVkOo8MOrrgCPnIqx9wo9il5', 'function': {'arguments': '{\"query\":\"petunia plant care, watering, sunlight, soil, pests, and diseases\"}', 'name': 'tavily_search'}, 'type': 'function'}], 'refusal': None}, response_metadata={'token_usage': {'completion_tokens': 30, 'prompt_tokens': 839, 'total_tokens': 869, 'completion_tokens_details': {'accepted_prediction_tokens': 0, 'audio_tokens': 0, 'reasoning_tokens': 0, 'rejected_prediction_tokens': 0}, 'prompt_tokens_details': {'audio_tokens': 0, 'cached_tokens': 0}}, 'model_name': 'gpt-4.1-nano-2025-04-14', 'system_fingerprint': 'fp_38343a2f8f', 'id': 'chatcmpl-Bq2IyqyJw70tpGM0tFrUjm10VjMeV', 'service_tier': 'default', 'finish_reason': 'tool_calls', 'logprobs': None}, id='run--b820a703-a157-4e15-a44f-e2307957c87e-0', tool_calls=[{'name': 'tavily_search', 'args': {'query': 'petunia plant care, watering, sunlight, soil, pests, and diseases'}, 'id': 'call_DVkOo8MOrrgCPnIqx9wo9il5', 'type': 'tool_call'}], usage_metadata={'input_tokens': 839, 'output_tokens': 30, 'total_tokens': 869, 'input_token_details': {'audio': 0, 'cache_read': 0}, 'output_token_details': {'audio': 0, 'reasoning': 0}})]}}\n",
      "{'tools': {'messages': [ToolMessage(content='{\"query\": \"petunia plant care, watering, sunlight, soil, pests, and diseases\", \"follow_up_questions\": null, \"answer\": null, \"images\": [], \"results\": [{\"title\": \"Petunias: Complete Plant Care And Growing Guide - Gardening Know How\", \"url\": \"https://www.gardeningknowhow.com/ornamental/flowers/petunia/petunia-care.htm\", \"content\": \"Sun exposure: Full sun Soil requirements: Average, well-drained Hardiness zones: 10 to 11 When to plant: Spring Petunia Care Caring for petunias is relatively simple if you provide them with the right growing conditions. A little pruning, full sun, and moist, well-drained soil should keep them happy and blooming all summer and into the fall. Light\", \"score\": 0.8051581, \"raw_content\": null}, {\"title\": \"How to Care for Petunias: Keep Them Blooming All Season\", \"url\": \"https://flowersgeek.com/how-to-care-for-petunias-keep-them-blooming-all-season/\", \"content\": \"How to Care for Petunias: Keep Them Blooming All Season Home » How to Care for Petunias: Keep Them Blooming All Season How to Care for Petunias: Keep Them Blooming All Season Petunias are among the most popular flowering plants for gardens, balconies, and containers. *   Planting Petunias for Maximum Bloom Potential *   Why are my petunias not blooming? Image 2: How to Care for Petunias: Keep Them Blooming All Season Planting Petunias for Maximum Bloom Potential Container-grown petunias may need daily watering during hot weather, while garden plants typically require less frequent irrigation. ### Why are my petunias not blooming? Whether you’re a beginner or seasoned gardener, petunias are a rewarding plant that responds generously to care.\", \"score\": 0.650934, \"raw_content\": null}, {\"title\": \"How to Grow and Care For Petunias - The Spruce\", \"url\": \"https://www.thespruce.com/how-to-grow-petunias-1402893\", \"content\": \"Image 25: portulaca flowers:max_bytes(150000):strip_icc():format(webp)/GettyImages-901717580-ee426f7605974da08378ec7a1fe981ce.jpg) How to Grow and Care for Portulaca Flowers for Colorful Blooms All Season LongImage 27: fresh and dried eucalyptus in a vase:max_bytes(150000):strip_icc():format(webp)/DryingEucalyptus_300-7063b7e0fd7f4ce9aea79223b6512ad3.jpg) How to Grow and Care for EucalyptusImage 29: red and pink zinnia flowers in garden with green leaves and yellow centers:max_bytes(150000):strip_icc():format(webp)/should-you-deadhead-zinnias-404308e54b55451f8a085f2dafd8115a.jpg) How to Make Zinnias Bloom Again (and Again) Before Summer EndsImage 31: Sweet Williams plant with bright and light pink frilly flowers:max_bytes(150000):strip_icc():format(webp)/sweet-williams-growing-guide-5200995-hero-e6be52fd2a554f61a3d75632dc702252.jpg) How to Grow and Care for Sweet WilliamImage 33: an asparagus fern in a basket:max_bytes(150000):strip_icc():format(webp)/grow-asparagus-ferns-1902714-HERO-86431c6f21c24689a9dde288981492c2.jpg) How to Grow and Care for Asparagus FernImage 35: closeup of purple shamrock:max_bytes(150000):strip_icc():format(webp)/KaraRileyOxalis-16-6c10c7afcb394dbb88974bd96dc2251a.jpg) How to Grow and Care for Purple Shamrock (False Shamrock)Image 37: rex begonia plant:max_bytes(150000):strip_icc():format(webp)/grow-rex-begonia-1902492-5-94396a6711614886a9bfbbca7e6a9306.jpg) How to Grow and Care for Rex BegoniasImage 39: potted cyclamen plants:max_bytes(150000):strip_icc():format(webp)/KaraRiley-10-RECIRC-2fb1413509144f36b6a795b27aafc162.jpg) Cyclamen: Plant Care & Growing Guide\", \"score\": 0.42749292, \"raw_content\": null}], \"response_time\": 2.33}', name='tavily_search', id='92488488-9796-4491-93b8-a85b6deda297', tool_call_id='call_DVkOo8MOrrgCPnIqx9wo9il5')]}}\n",
      "{'agent': {'messages': [AIMessage(content='Petunias are popular flowering plants that thrive in full sun and well-drained soil. They are relatively easy to care for with proper watering—preferably moist soil—and regular pruning to encourage blooming. They grow well in hardiness zones 10 to 11 and are best planted in spring. For more detailed care tips, you can check [Gardening Know How](https://www.gardeningknowhow.com/ornamental/flowers/petunia/petunia-care.htm) and [Flowers Geek](https://flowersgeek.com/how-to-care-for-petunias-keep-them-blooming-all-season/).', additional_kwargs={'refusal': None}, response_metadata={'token_usage': {'completion_tokens': 128, 'prompt_tokens': 1892, 'total_tokens': 2020, 'completion_tokens_details': {'accepted_prediction_tokens': 0, 'audio_tokens': 0, 'reasoning_tokens': 0, 'rejected_prediction_tokens': 0}, 'prompt_tokens_details': {'audio_tokens': 0, 'cached_tokens': 0}}, 'model_name': 'gpt-4.1-nano-2025-04-14', 'system_fingerprint': 'fp_38343a2f8f', 'id': 'chatcmpl-Bq2J2YGsAur6wOxALBK5QYny8vjxh', 'service_tier': 'default', 'finish_reason': 'stop', 'logprobs': None}, id='run--4ce4e24a-04bb-4b29-be76-373e46276d70-0', usage_metadata={'input_tokens': 1892, 'output_tokens': 128, 'total_tokens': 2020, 'input_token_details': {'audio': 0, 'cache_read': 0}, 'output_token_details': {'audio': 0, 'reasoning': 0}})]}}\n"
     ]
    }
   ],
   "source": [
    "web_search = TavilySearch(max_results=3)\n",
    "\n",
    "# Create the research agent\n",
    "research_agent = create_react_agent(\n",
    "    model=ChatOpenAI(model=\"gpt-4.1-nano-2025-04-14\", temperature=0.7),\n",
    "    tools=[web_search],\n",
    "    prompt=\"\"\"You are a plant research assistant. \n",
    "You answer any questions about plant care, watering frequency, soil type, nutrients, sunlight, pests, diseases, and any other plant-related information.\n",
    "Always use the web_search tool to provide up-to-date and accurate information.\n",
    "Be concise, friendly, and cite your sources if possible.\"\"\"\n",
    ")\n",
    "\n",
    "# Example usage: ask a plant care question\n",
    "inputs = {\n",
    "    \"messages\": [\n",
    "        HumanMessage(content=\"I want to know about petunia plant\")\n",
    "    ]\n",
    "}\n",
    "\n",
    "# Run the agent\n",
    "result = research_agent.invoke(inputs)\n",
    "\n",
    "# Print the result\n",
    "print(\"Research Agent Response:\")\n",
    "print(result[\"messages\"][-1].content)\n",
    "\n",
    "# (Optional) Stream the response to see tool calls in action\n",
    "print(\"\\n\" + \"=\"*50)\n",
    "print(\"Streaming response to see tool calls:\")\n",
    "for chunk in research_agent.stream(inputs, stream_mode=\"updates\"):\n",
    "    print(chunk)"
   ]
  },
  {
   "cell_type": "code",
   "execution_count": 47,
   "metadata": {},
   "outputs": [
    {
     "name": "stdout",
     "output_type": "stream",
     "text": [
      "Query: What's in my cart? I have user_id = 1\n",
      "--------------------------------------------------\n",
      "Final Response: Your cart contains:\n",
      "- 1 Adenium\n",
      "- 1 Maize Seeds\n",
      "- 2 Planters\n",
      "\n",
      "Would you like to add more items or need any other assistance?\n",
      "Agent Used: CART\n",
      "==================================================\n",
      "\n",
      "Query: Add an adenium plant to my cart\n",
      "--------------------------------------------------\n",
      "Final Response: The Adenium plant has been added to your cart. Would you like to see your cart contents or need help with anything else?\n",
      "Agent Used: CART\n",
      "==================================================\n",
      "\n",
      "Query: What soil type is best for succulents?\n",
      "--------------------------------------------------\n",
      "Final Response: The best soil for succulents is a well-draining mix. A common recommendation is a 1:1 ratio of succulent soil to inorganic grit like perlite or pumice. Organic matter such as pine bark, coconut coir, or compost can also be included, along with mineral options like coarse sand or volcanic rock. The key is good drainage to prevent root rot. [Sources: Reddit, Mountain Crest Gardens, Artisan Plants]\n",
      "Agent Used: RESEARCH\n",
      "==================================================\n",
      "\n"
     ]
    }
   ],
   "source": [
    "# Fixed Supervisor Agent - Using proper LangGraph node structure\n",
    "from langchain_openai import ChatOpenAI\n",
    "from langchain_core.messages import HumanMessage, SystemMessage\n",
    "from langgraph.graph import StateGraph, END\n",
    "from langgraph.graph.message import add_messages\n",
    "from typing import Annotated, TypedDict, Literal\n",
    "\n",
    "# Define the state schema\n",
    "class SupervisorState(TypedDict):\n",
    "    messages: Annotated[list, add_messages]\n",
    "    agent_type: str\n",
    "\n",
    "# Create the supervisor LLM\n",
    "supervisor_llm = ChatOpenAI(model=\"gpt-4.1-nano-2025-04-14\", temperature=0.3)\n",
    "\n",
    "def supervisor_node(state: SupervisorState) -> SupervisorState:\n",
    "    \"\"\"Supervisor node that decides which agent to route to\"\"\"\n",
    "    messages = state[\"messages\"]\n",
    "    \n",
    "    # Create a decision prompt as a system message\n",
    "    system_prompt = \"\"\"You are a supervisor that routes user queries to the appropriate agent.\n",
    "\n",
    "Available agents:\n",
    "1. CART_AGENT - For cart operations, adding products, checking cart contents, searching store products\n",
    "2. RESEARCH_AGENT - For plant care questions, watering, soil, nutrients, pests, diseases, general plant information\n",
    "\n",
    "Analyze the user's intent and respond with ONLY one word:\n",
    "- \"cart\" if the user wants to interact with their cart, add products, or search store products\n",
    "- \"research\" if the user is asking about plant care, care instructions, or general plant information\n",
    "\n",
    "Respond with only the word:\"\"\"\n",
    "\n",
    "    # Create the message list with system prompt and user message\n",
    "    decision_messages = [\n",
    "        SystemMessage(content=system_prompt),\n",
    "        messages[-1]  # The user's message\n",
    "    ]\n",
    "    \n",
    "    # Get supervisor decision\n",
    "    response = supervisor_llm.invoke(decision_messages)\n",
    "    agent_decision = response.content.strip().lower()\n",
    "    \n",
    "    # Validate decision\n",
    "    if agent_decision not in [\"cart\", \"research\"]:\n",
    "        agent_decision = \"research\"  # Default to research\n",
    "    \n",
    "    return {\n",
    "        \"messages\": messages,\n",
    "        \"agent_type\": agent_decision\n",
    "    }\n",
    "\n",
    "# Create the supervisor graph\n",
    "def create_supervisor_agent():\n",
    "    \"\"\"Create a supervisor agent that routes between cart and research agents\"\"\"\n",
    "    \n",
    "    workflow = StateGraph(SupervisorState)\n",
    "    \n",
    "    # Add nodes\n",
    "    workflow.add_node(\"supervisor\", supervisor_node)\n",
    "    workflow.add_node(\"cart_agent\", cart_agent)\n",
    "    workflow.add_node(\"research_agent\", research_agent)\n",
    "    \n",
    "    # Set entry point\n",
    "    workflow.set_entry_point(\"supervisor\")\n",
    "    \n",
    "    # Add conditional edges\n",
    "    def route_to_agent(state: SupervisorState) -> Literal[\"cart_agent\", \"research_agent\", \"__end__\"]:\n",
    "        \"\"\"Route to appropriate agent based on supervisor decision\"\"\"\n",
    "        agent_type = state.get(\"agent_type\", \"\")\n",
    "        if agent_type == \"cart\":\n",
    "            return \"cart_agent\"\n",
    "        elif agent_type == \"research\":\n",
    "            return \"research_agent\"\n",
    "        else:\n",
    "            return END\n",
    "    \n",
    "    workflow.add_conditional_edges(\"supervisor\", route_to_agent)\n",
    "    workflow.add_edge(\"cart_agent\", END)\n",
    "    workflow.add_edge(\"research_agent\", END)\n",
    "    \n",
    "    return workflow.compile()\n",
    "\n",
    "# Create the supervisor agent\n",
    "supervisor_agent = create_supervisor_agent()\n",
    "\n",
    "# Test the supervisor agent\n",
    "def test_supervisor(query: str):\n",
    "    \"\"\"Test the supervisor with different types of queries\"\"\"\n",
    "    inputs = {\n",
    "        \"messages\": [HumanMessage(content=query)],\n",
    "        \"agent_type\": \"\"\n",
    "    }\n",
    "    \n",
    "    print(f\"Query: {query}\")\n",
    "    print(\"-\" * 50)\n",
    "    \n",
    "    result = supervisor_agent.invoke(inputs)\n",
    "    \n",
    "    # Print the final response\n",
    "    final_message = result[\"messages\"][-1]\n",
    "    print(f\"Final Response: {final_message.content}\")\n",
    "    \n",
    "    # Print which agent was used\n",
    "    agent_type = result.get(\"agent_type\", \"unknown\")\n",
    "    print(f\"Agent Used: {agent_type.upper()}\")\n",
    "    print(\"=\" * 50)\n",
    "    print()\n",
    "\n",
    "# Test different types of queries\n",
    "test_queries = [\n",
    "    \"What's in my cart? I have user_id = 1\",\n",
    "    \"Add an adenium plant to my cart\",\n",
    "    \"What soil type is best for succulents?\",\n",
    "]\n",
    "\n",
    "for query in test_queries:\n",
    "    test_supervisor(query)"
   ]
  },
  {
   "cell_type": "code",
   "execution_count": 48,
   "metadata": {},
   "outputs": [
    {
     "ename": "NameError",
     "evalue": "name 'workflow' is not defined",
     "output_type": "error",
     "traceback": [
      "\u001b[31m---------------------------------------------------------------------------\u001b[39m",
      "\u001b[31mNameError\u001b[39m                                 Traceback (most recent call last)",
      "\u001b[36mCell\u001b[39m\u001b[36m \u001b[39m\u001b[32mIn[48]\u001b[39m\u001b[32m, line 1\u001b[39m\n\u001b[32m----> \u001b[39m\u001b[32m1\u001b[39m \u001b[43mworkflow\u001b[49m\n",
      "\u001b[31mNameError\u001b[39m: name 'workflow' is not defined"
     ]
    }
   ],
   "source": []
  },
  {
   "cell_type": "code",
   "execution_count": 55,
   "metadata": {},
   "outputs": [
    {
     "data": {
      "text/plain": [
       "[<Product: Maize Seeds>, <Product: Peanut Seeds>]"
      ]
     },
     "execution_count": 55,
     "metadata": {},
     "output_type": "execute_result"
    }
   ],
   "source": [
    "from category.models import Category\n",
    "from store.models import Product\n",
    "def fetch_products_by_category(category_name: str) -> list:\n",
    "    \"\"\"Fetch products by category using Django ORM\"\"\"\n",
    "    try:\n",
    "        category = Category.objects.get(category_name__iexact=category_name)\n",
    "        products = Product.objects.filter(category=category)\n",
    "        return list(products)\n",
    "    except Category.DoesNotExist:\n",
    "        return []\n",
    "\n",
    "fetch_products_by_category('seeds')"
   ]
  },
  {
   "cell_type": "code",
   "execution_count": null,
   "metadata": {},
   "outputs": [],
   "source": []
  }
 ],
 "metadata": {
  "kernelspec": {
   "display_name": "dj_env",
   "language": "python",
   "name": "python3"
  },
  "language_info": {
   "codemirror_mode": {
    "name": "ipython",
    "version": 3
   },
   "file_extension": ".py",
   "mimetype": "text/x-python",
   "name": "python",
   "nbconvert_exporter": "python",
   "pygments_lexer": "ipython3",
   "version": "3.11.13"
  }
 },
 "nbformat": 4,
 "nbformat_minor": 2
}
